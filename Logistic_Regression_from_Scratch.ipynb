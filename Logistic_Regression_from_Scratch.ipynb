{
  "nbformat": 4,
  "nbformat_minor": 0,
  "metadata": {
    "colab": {
      "name": "Logistic Regression from Scratch",
      "provenance": [],
      "authorship_tag": "ABX9TyOvafOXXHJhqchTCs/y7StJ",
      "include_colab_link": true
    },
    "kernelspec": {
      "name": "python3",
      "display_name": "Python 3"
    }
  },
  "cells": [
    {
      "cell_type": "markdown",
      "metadata": {
        "id": "view-in-github",
        "colab_type": "text"
      },
      "source": [
        "<a href=\"https://colab.research.google.com/github/NsiriRoua/Regression/blob/main/Logistic_Regression_from_Scratch.ipynb\" target=\"_parent\"><img src=\"https://colab.research.google.com/assets/colab-badge.svg\" alt=\"Open In Colab\"/></a>"
      ]
    },
    {
      "cell_type": "markdown",
      "metadata": {
        "id": "aug8d1-96TyK"
      },
      "source": [
        "# **Logistic Regression from Scratch**"
      ]
    },
    {
      "cell_type": "markdown",
      "metadata": {
        "id": "tx5qmPs26auJ"
      },
      "source": [
        "**Import Resources**"
      ]
    },
    {
      "cell_type": "code",
      "metadata": {
        "id": "SIoNBlOT6iG-"
      },
      "source": [
        "import numpy as np\r\n",
        "np.set_printoptions(precision=True)\r\n",
        "import matplotlib.pyplot as plt\r\n",
        "import seaborn as sns\r\n",
        "from sklearn import datasets\r\n"
      ],
      "execution_count": null,
      "outputs": []
    },
    {
      "cell_type": "markdown",
      "metadata": {
        "id": "Is3t4QQv7UE0"
      },
      "source": [
        "# **Binary Logistic Regression**"
      ]
    },
    {
      "cell_type": "code",
      "metadata": {
        "id": "hu1M_jC97Zk2"
      },
      "source": [
        "#Import data\r\n",
        "breast_cancer_data=datasets.load_breast_cancer()\r\n",
        "X=breast_cancer_data['data']\r\n",
        "y=breast_cancer_data['target']"
      ],
      "execution_count": null,
      "outputs": []
    },
    {
      "cell_type": "markdown",
      "metadata": {
        "id": "Oaa2eWwQ8AE4"
      },
      "source": [
        "**Logistic Regression function**"
      ]
    },
    {
      "cell_type": "code",
      "metadata": {
        "id": "xi5gFJ5l8GTX"
      },
      "source": [
        "# This function will return a vector of probabilities\r\n",
        "def LogisticRegression(z):\r\n",
        "  return 1/1+np.exp(-z)\r\n"
      ],
      "execution_count": null,
      "outputs": []
    },
    {
      "cell_type": "markdown",
      "metadata": {
        "id": "zNPiG0yH8WAj"
      },
      "source": [
        "**StandardScaler function**"
      ]
    },
    {
      "cell_type": "markdown",
      "metadata": {
        "id": "mQ3rGQBD52g2"
      },
      "source": [
        "![image.png](data:image/png;base64,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)"
      ]
    },
    {
      "cell_type": "code",
      "metadata": {
        "id": "O7wwK9vh1i8F"
      },
      "source": [
        "def StandardScaler(z):\r\n",
        "  mean=z.mean(0)\r\n",
        "  sd=z.std(0)\r\n",
        "  return (z-mean)/sd"
      ],
      "execution_count": null,
      "outputs": []
    },
    {
      "cell_type": "markdown",
      "metadata": {
        "id": "tJdXIWmd4VAN"
      },
      "source": [
        "**Binary Logistic Regression class**"
      ]
    },
    {
      "cell_type": "code",
      "metadata": {
        "id": "9EkImdql4Zoc"
      },
      "source": [
        "class BinaryLogisticRegression:\r\n",
        "    \r\n",
        "    def fit(self, X, y, n_iter, lr, standardize = True, has_intercept = False):\r\n",
        "        \r\n",
        "        ### ###\r\n",
        "        if standardize:\r\n",
        "            X =StandardScaler(X) \r\n",
        "        if not has_intercept:\r\n",
        "            ones = np.ones(X.shape[0]).reshape(-1, 1)\r\n",
        "            X = np.concatenate((ones, X), axis = 1)\r\n",
        "        self.X = X\r\n",
        "        self.N, self.D = X.shape\r\n",
        "        self.y = y\r\n",
        "        self.n_iter = n_iter\r\n",
        "        self.lr = lr\r\n",
        "\r\n",
        "        ### Calculate Beta ###\r\n",
        "        beta = np.random.randn(self.D) \r\n",
        "        for i in range(n_iter):\r\n",
        "            p =LogisticRegression(np.dot(self.X, beta)) # vector of probabilities \r\n",
        "            gradient = -np.dot(self.X.T, (self.y-p)) # gradient\r\n",
        "            beta -= self.lr*gradient \r\n",
        "            \r\n",
        "        ### Update Values ###\r\n",
        "        self.beta = beta\r\n",
        "        self.p =LogisticRegression(np.dot(self.X, self.beta)) \r\n",
        "        self.yhat = self.p.round()\r\n",
        "\r\n",
        "\r\n",
        "\r\n",
        "\r\n"
      ],
      "execution_count": null,
      "outputs": []
    },
    {
      "cell_type": "code",
      "metadata": {
        "colab": {
          "base_uri": "https://localhost:8080/"
        },
        "id": "OixnrXJdvLWe",
        "outputId": "7b3ff216-f750-4e00-9b98-47ea41aff4a7"
      },
      "source": [
        "binary_lr=BinaryLogisticRegression()\r\n",
        "binary_lr.fit(X,y,n_iter=100000,lr=0.0000001)\r\n",
        "print('In-sample accuracy: '  + str(np.mean(binary_lr.yhat == binary_lr.y)))"
      ],
      "execution_count": null,
      "outputs": [
        {
          "output_type": "stream",
          "text": [
            "/usr/local/lib/python3.7/dist-packages/ipykernel_launcher.py:3: RuntimeWarning: overflow encountered in exp\n",
            "  This is separate from the ipykernel package so we can avoid doing imports until\n"
          ],
          "name": "stderr"
        },
        {
          "output_type": "stream",
          "text": [
            "In-sample accuracy: 0.0\n"
          ],
          "name": "stdout"
        }
      ]
    },
    {
      "cell_type": "markdown",
      "metadata": {
        "id": "YdpWqCYciTqm"
      },
      "source": [
        "# **Multiclass LogisticRegression**"
      ]
    },
    {
      "cell_type": "code",
      "metadata": {
        "id": "YVONr2C3iZGT"
      },
      "source": [
        "#Let's import data\r\n",
        "wine_dataset=datasets.load_wine()\r\n",
        "X_wine=wine_dataset['data']\r\n",
        "y_wine=wine_dataset['target']"
      ],
      "execution_count": null,
      "outputs": []
    },
    {
      "cell_type": "code",
      "metadata": {
        "id": "CVHUi6AojyGq"
      },
      "source": [
        "#Softmax function\r\n",
        "def Softmax(z):\r\n",
        "  return np.exp(z)/(np.exp(z).sum()) "
      ],
      "execution_count": null,
      "outputs": []
    },
    {
      "cell_type": "code",
      "metadata": {
        "colab": {
          "base_uri": "https://localhost:8080/"
        },
        "id": "RVJSbTTvkNU5",
        "outputId": "3678c925-ef8d-43cc-e135-cce6e6979e0a"
      },
      "source": [
        "#Softmax by row\r\n",
        "def Softmax_by_row(z):\r\n",
        "  return (np.exp(z)/np.exp(z).sum(1)[:,None])\r\n",
        "\r\n",
        "def make_I_matrix(y):\r\n",
        "    I = np.zeros(shape = (len(y), len(np.unique(y))), dtype = int)\r\n",
        "    for j, target in enumerate(np.unique(y)):\r\n",
        "        I[:,j] = (y == target)\r\n",
        "    return I\r\n",
        "\r\n",
        "#Let's test \r\n",
        "Z_test=np.array([[1,1],[0,1]])\r\n",
        "print('Softmax for Z:\\n', Softmax_by_row(Z_test).round(2))\r\n",
        "\r\n",
        "y_test = np.array([0,0,1,1,2])\r\n",
        "print('I matrix of [0,0,1,1,2]:\\n', make_I_matrix(y_test), end = '\\n\\n')\r\n"
      ],
      "execution_count": null,
      "outputs": [
        {
          "output_type": "stream",
          "text": [
            "Softmax for Z:\n",
            " [[0.5 0.5]\n",
            " [0.3 0.7]]\n",
            "I matrix of [0,0,1,1,2]:\n",
            " [[1 0 0]\n",
            " [1 0 0]\n",
            " [0 1 0]\n",
            " [0 1 0]\n",
            " [0 0 1]]\n",
            "\n"
          ],
          "name": "stdout"
        }
      ]
    },
    {
      "cell_type": "code",
      "metadata": {
        "id": "ah_wY1ROpRju"
      },
      "source": [
        "class MultiLogisticRegression:\r\n",
        "      \r\n",
        "    def fit(self, X, y, n_iter, lr, standardize = True, has_intercept = False):\r\n",
        "        \r\n",
        "        ### Record Info ###\r\n",
        "        if standardize:\r\n",
        "            X = StandardScaler(X) \r\n",
        "        if not has_intercept:\r\n",
        "            ones = np.ones(X.shape[0]).reshape(-1, 1)\r\n",
        "            X = np.concatenate((ones, X), axis = 1)\r\n",
        "        self.X = X\r\n",
        "        self.N, self.D = X.shape\r\n",
        "        self.y = y\r\n",
        "        self.K = len(np.unique(y))\r\n",
        "        self.n_iter = n_iter\r\n",
        "        self.lr = lr\r\n",
        "        \r\n",
        "        ### Fit B ###\r\n",
        "        B = np.random.randn(self.D*self.K).reshape((self.D, self.K))\r\n",
        "        self.I = make_I_matrix(self.y)\r\n",
        "        for i in range(n_iter):\r\n",
        "            Z = np.dot(self.X, B)\r\n",
        "            P = Softmax_by_row(Z)\r\n",
        "            gradient = np.dot(self.X.T, self.I - P)\r\n",
        "            B += lr*gradient\r\n",
        "        \r\n",
        "        ### Return Values ###\r\n",
        "        self.B = B\r\n",
        "        self.Z = np.dot(self.X, B)\r\n",
        "        self.P = Softmax_by_row(self.Z)\r\n",
        "        self.yhat = self.P.argmax(1) \r\n",
        "      #yhat value return the class with the high estimated probability\r\n",
        "\r\n"
      ],
      "execution_count": null,
      "outputs": []
    },
    {
      "cell_type": "code",
      "metadata": {
        "colab": {
          "base_uri": "https://localhost:8080/"
        },
        "id": "yDD8HY0yy-3a",
        "outputId": "38f24b0b-aef3-480f-b739-93cf13b3d757"
      },
      "source": [
        "#Instanciate our model\r\n",
        "model=MultiLogisticRegression()\r\n",
        "# Fit our model\r\n",
        "model.fit(X_wine, y_wine, 10**4, 0.0001)\r\n",
        "# Evalute :Accuarcy\r\n",
        "print('In-sample accuracy: '  + str(np.mean(model.yhat == y_wine)))"
      ],
      "execution_count": null,
      "outputs": [
        {
          "output_type": "stream",
          "text": [
            "In-sample accuracy: 1.0\n"
          ],
          "name": "stdout"
        }
      ]
    },
    {
      "cell_type": "code",
      "metadata": {
        "colab": {
          "base_uri": "https://localhost:8080/",
          "height": 414
        },
        "id": "3_7PW8p-3Neq",
        "outputId": "744346d9-5b8e-47f8-b19a-e7556b45e77a"
      },
      "source": [
        "fig, ax = plt.subplots(1, 3, figsize = (17, 5))\r\n",
        "for i, y in enumerate(np.unique(y)):\r\n",
        "    sns.distplot(model.P[model.y == y, i],\r\n",
        "                 hist_kws=dict(edgecolor=\"darkblue\"), \r\n",
        "                 color = 'cornflowerblue',\r\n",
        "                 bins = 15, \r\n",
        "                 kde = False,\r\n",
        "                 ax = ax[i]);\r\n",
        "    ax[i].set_xlabel(xlabel = fr'$P(y = {y})$', size = 14)\r\n",
        "    ax[i].set_title('Histogram for Observations in Class '+ str(y), size = 16)\r\n",
        "sns.despine()"
      ],
      "execution_count": null,
      "outputs": [
        {
          "output_type": "stream",
          "text": [
            "/usr/local/lib/python3.7/dist-packages/seaborn/distributions.py:2557: FutureWarning: `distplot` is a deprecated function and will be removed in a future version. Please adapt your code to use either `displot` (a figure-level function with similar flexibility) or `histplot` (an axes-level function for histograms).\n",
            "  warnings.warn(msg, FutureWarning)\n"
          ],
          "name": "stderr"
        },
        {
          "output_type": "display_data",
          "data": {
            "image/png": "[encoded data removed]",
            "text/plain": [
              "<Figure size 1224x360 with 3 Axes>"
            ]
          },
          "metadata": {
            "tags": [],
            "needs_background": "light"
          }
        }
      ]
    },
    {
      "cell_type": "markdown",
      "metadata": {
        "id": "E-wpvZbo7u1c"
      },
      "source": [
        "# **The perceptron Algorithm**"
      ]
    },
    {
      "cell_type": "markdown",
      "metadata": {
        "id": "a1iQizU58Ept"
      },
      "source": [
        "**import data**"
      ]
    },
    {
      "cell_type": "code",
      "metadata": {
        "id": "xAjU4SaJ8HBp"
      },
      "source": [
        "cancer=datasets.load_breast_cancer()\r\n",
        "x_cancer=cancer['data']\r\n",
        "y_cancer=cancer['target']"
      ],
      "execution_count": null,
      "outputs": []
    },
    {
      "cell_type": "code",
      "metadata": {
        "id": "PzsoDeCe8dYv"
      },
      "source": [
        "def sign(a):\r\n",
        "    return (-1)**(a < 0)\r\n",
        "\r\n",
        "def to_binary(y):\r\n",
        "        return y > 0 \r\n",
        "\r\n",
        "def standard_scaler(X):\r\n",
        "    mean = X.mean(0)\r\n",
        "    sd = X.std(0)\r\n",
        "    return (X - mean)/sd"
      ],
      "execution_count": null,
      "outputs": []
    },
    {
      "cell_type": "code",
      "metadata": {
        "id": "rHLLovdP-TFs"
      },
      "source": [
        "class Perceptron:\r\n",
        "\r\n",
        "    def fit(self, X, y, n_iter = 10**3, lr = 0.001, add_intercept = True, standardize = True):\r\n",
        "        \r\n",
        "        # Add Info #\r\n",
        "        if standardize:\r\n",
        "            X = standard_scaler(X)\r\n",
        "        if add_intercept:\r\n",
        "            ones = np.ones(len(X)).reshape(-1, 1)\r\n",
        "        self.X = X\r\n",
        "        self.N, self.D = self.X.shape\r\n",
        "        self.y = y\r\n",
        "        self.n_iter = n_iter\r\n",
        "        self.lr = lr\r\n",
        "        self.converged = False\r\n",
        "        \r\n",
        "        # Fit #\r\n",
        "        beta = np.random.randn(self.D)/5\r\n",
        "        for i in range(int(self.n_iter)):\r\n",
        "            \r\n",
        "            # Form predictions\r\n",
        "            yhat = to_binary(sign(np.dot(self.X, beta)))\r\n",
        "            \r\n",
        "            # Check for convergence\r\n",
        "            if np.all(yhat == sign(self.y)):\r\n",
        "                self.converged = True\r\n",
        "                self.iterations_until_convergence = i\r\n",
        "                break\r\n",
        "                \r\n",
        "            # Otherwise, adjust\r\n",
        "            for n in range(self.N):\r\n",
        "                yhat_n = sign(np.dot(beta, self.X[n]))\r\n",
        "                if (self.y[n]*yhat_n == -1):\r\n",
        "                    beta += self.lr * self.y[n]*self.X[n]\r\n",
        "\r\n",
        "        # Return Values #\r\n",
        "        self.beta = beta\r\n",
        "        self.yhat = to_binary(sign(np.dot(self.X, self.beta)))\r\n"
      ],
      "execution_count": null,
      "outputs": []
    },
    {
      "cell_type": "code",
      "metadata": {
        "colab": {
          "base_uri": "https://localhost:8080/"
        },
        "id": "yItB9EmGDxdd",
        "outputId": "56577d9c-f5ff-48b2-fafa-09bdeead0783"
      },
      "source": [
        "perceptron = Perceptron()\r\n",
        "perceptron.fit(x_cancer, y_cancer, n_iter = 1e3, lr = 0.01)\r\n",
        "np.mean(perceptron.yhat == perceptron.y)"
      ],
      "execution_count": null,
      "outputs": [
        {
          "output_type": "execute_result",
          "data": {
            "text/plain": [
              "0.9771528998242531"
            ]
          },
          "metadata": {
            "tags": []
          },
          "execution_count": 99
        }
      ]
    }
  ]
}